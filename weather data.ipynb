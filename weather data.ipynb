{
 "cells": [
  {
   "cell_type": "code",
   "execution_count": 1,
   "id": "c64f9209",
   "metadata": {},
   "outputs": [
    {
     "ename": "FileNotFoundError",
     "evalue": "[Errno 2] No such file or directory: 'sample_weather.txt'",
     "output_type": "error",
     "traceback": [
      "\u001b[1;31m---------------------------------------------------------------------------\u001b[0m",
      "\u001b[1;31mFileNotFoundError\u001b[0m                         Traceback (most recent call last)",
      "Cell \u001b[1;32mIn[1], line 44\u001b[0m\n\u001b[0;32m     41\u001b[0m file_path \u001b[38;5;241m=\u001b[39m \u001b[38;5;124m'\u001b[39m\u001b[38;5;124msample_weather.txt\u001b[39m\u001b[38;5;124m'\u001b[39m\n\u001b[0;32m     43\u001b[0m \u001b[38;5;66;03m# Calculate the average weather\u001b[39;00m\n\u001b[1;32m---> 44\u001b[0m average_temp, average_dew, average_wind \u001b[38;5;241m=\u001b[39m \u001b[43mcalculate_average_weather\u001b[49m\u001b[43m(\u001b[49m\u001b[43mfile_path\u001b[49m\u001b[43m)\u001b[49m\n\u001b[0;32m     46\u001b[0m \u001b[38;5;66;03m# Print the results\u001b[39;00m\n\u001b[0;32m     47\u001b[0m \u001b[38;5;28mprint\u001b[39m(\u001b[38;5;124m\"\u001b[39m\u001b[38;5;124mAverage Temperature: \u001b[39m\u001b[38;5;132;01m{:.2f}\u001b[39;00m\u001b[38;5;124m\"\u001b[39m\u001b[38;5;241m.\u001b[39mformat(average_temp))\n",
      "Cell \u001b[1;32mIn[1], line 9\u001b[0m, in \u001b[0;36mcalculate_average_weather\u001b[1;34m(file_path)\u001b[0m\n\u001b[0;32m      6\u001b[0m count \u001b[38;5;241m=\u001b[39m \u001b[38;5;241m0\u001b[39m\n\u001b[0;32m      8\u001b[0m \u001b[38;5;66;03m# Read the file\u001b[39;00m\n\u001b[1;32m----> 9\u001b[0m \u001b[38;5;28;01mwith\u001b[39;00m \u001b[38;5;28;43mopen\u001b[39;49m\u001b[43m(\u001b[49m\u001b[43mfile_path\u001b[49m\u001b[43m,\u001b[49m\u001b[43m \u001b[49m\u001b[38;5;124;43m'\u001b[39;49m\u001b[38;5;124;43mr\u001b[39;49m\u001b[38;5;124;43m'\u001b[39;49m\u001b[43m)\u001b[49m \u001b[38;5;28;01mas\u001b[39;00m file:\n\u001b[0;32m     10\u001b[0m     \u001b[38;5;66;03m# Skip the header line\u001b[39;00m\n\u001b[0;32m     11\u001b[0m     \u001b[38;5;28mnext\u001b[39m(file)\n\u001b[0;32m     13\u001b[0m     \u001b[38;5;66;03m# Process each line\u001b[39;00m\n",
      "File \u001b[1;32m~\\AppData\\Local\\Programs\\Python\\Python311\\Lib\\site-packages\\IPython\\core\\interactiveshell.py:282\u001b[0m, in \u001b[0;36m_modified_open\u001b[1;34m(file, *args, **kwargs)\u001b[0m\n\u001b[0;32m    275\u001b[0m \u001b[38;5;28;01mif\u001b[39;00m file \u001b[38;5;129;01min\u001b[39;00m {\u001b[38;5;241m0\u001b[39m, \u001b[38;5;241m1\u001b[39m, \u001b[38;5;241m2\u001b[39m}:\n\u001b[0;32m    276\u001b[0m     \u001b[38;5;28;01mraise\u001b[39;00m \u001b[38;5;167;01mValueError\u001b[39;00m(\n\u001b[0;32m    277\u001b[0m         \u001b[38;5;124mf\u001b[39m\u001b[38;5;124m\"\u001b[39m\u001b[38;5;124mIPython won\u001b[39m\u001b[38;5;124m'\u001b[39m\u001b[38;5;124mt let you open fd=\u001b[39m\u001b[38;5;132;01m{\u001b[39;00mfile\u001b[38;5;132;01m}\u001b[39;00m\u001b[38;5;124m by default \u001b[39m\u001b[38;5;124m\"\u001b[39m\n\u001b[0;32m    278\u001b[0m         \u001b[38;5;124m\"\u001b[39m\u001b[38;5;124mas it is likely to crash IPython. If you know what you are doing, \u001b[39m\u001b[38;5;124m\"\u001b[39m\n\u001b[0;32m    279\u001b[0m         \u001b[38;5;124m\"\u001b[39m\u001b[38;5;124myou can use builtins\u001b[39m\u001b[38;5;124m'\u001b[39m\u001b[38;5;124m open.\u001b[39m\u001b[38;5;124m\"\u001b[39m\n\u001b[0;32m    280\u001b[0m     )\n\u001b[1;32m--> 282\u001b[0m \u001b[38;5;28;01mreturn\u001b[39;00m \u001b[43mio_open\u001b[49m\u001b[43m(\u001b[49m\u001b[43mfile\u001b[49m\u001b[43m,\u001b[49m\u001b[43m \u001b[49m\u001b[38;5;241;43m*\u001b[39;49m\u001b[43margs\u001b[49m\u001b[43m,\u001b[49m\u001b[43m \u001b[49m\u001b[38;5;241;43m*\u001b[39;49m\u001b[38;5;241;43m*\u001b[39;49m\u001b[43mkwargs\u001b[49m\u001b[43m)\u001b[49m\n",
      "\u001b[1;31mFileNotFoundError\u001b[0m: [Errno 2] No such file or directory: 'sample_weather.txt'"
     ]
    }
   ],
   "source": [
    "def calculate_average_weather(file_path):\n",
    "    # Initialize variables\n",
    "    total_temperature = 0\n",
    "    total_dew_point = 0\n",
    "    total_wind_speed = 0\n",
    "    count = 0\n",
    "\n",
    "    # Read the file\n",
    "    with open(file_path, 'r') as file:\n",
    "        # Skip the header line\n",
    "        next(file)\n",
    "\n",
    "        # Process each line\n",
    "        for line in file:\n",
    "            # Split the line into individual values\n",
    "            values = line.strip().split(',')\n",
    "\n",
    "            # Extract the temperature, dew point, and wind speed values\n",
    "            temperature = float(values[1])\n",
    "            dew_point = float(values[2])\n",
    "            wind_speed = float(values[3])\n",
    "\n",
    "            # Update the totals\n",
    "            total_temperature += temperature\n",
    "            total_dew_point += dew_point\n",
    "            total_wind_speed += wind_speed\n",
    "\n",
    "            # Increment the count\n",
    "            count += 1\n",
    "\n",
    "    # Calculate the averages\n",
    "    average_temperature = total_temperature / count\n",
    "    average_dew_point = total_dew_point / count\n",
    "    average_wind_speed = total_wind_speed / count\n",
    "\n",
    "    # Return the averages\n",
    "    return average_temperature, average_dew_point, average_wind_speed\n",
    "\n",
    "\n",
    "# Provide the file path of the weather dataset\n",
    "file_path = 'sample_weather.txt'\n",
    "\n",
    "# Calculate the average weather\n",
    "average_temp, average_dew, average_wind = calculate_average_weather(file_path)\n",
    "\n",
    "# Print the results\n",
    "print(\"Average Temperature: {:.2f}\".format(average_temp))\n",
    "print(\"Average Dew Point: {:.2f}\".format(average_dew))\n",
    "print(\"Average Wind Speed: {:.2f}\".format(average_wind))"
   ]
  },
  {
   "cell_type": "code",
   "execution_count": null,
   "id": "f878eada",
   "metadata": {},
   "outputs": [],
   "source": []
  }
 ],
 "metadata": {
  "kernelspec": {
   "display_name": "Python 3 (ipykernel)",
   "language": "python",
   "name": "python3"
  },
  "language_info": {
   "codemirror_mode": {
    "name": "ipython",
    "version": 3
   },
   "file_extension": ".py",
   "mimetype": "text/x-python",
   "name": "python",
   "nbconvert_exporter": "python",
   "pygments_lexer": "ipython3",
   "version": "3.11.0"
  }
 },
 "nbformat": 4,
 "nbformat_minor": 5
}
